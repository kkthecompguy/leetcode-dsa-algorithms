{
 "cells": [
  {
   "cell_type": "markdown",
   "id": "b7603096",
   "metadata": {},
   "source": [
    "Given an array of integers nums which is sorted in ascending order, and an integer target, write a function to  \n",
    "search target in nums. If target exists, then return its index. Otherwise, return -1.  \n",
    "\n",
    "\n",
    "You must write an algorithm with O(log n) runtime complexity."
   ]
  },
  {
   "cell_type": "markdown",
   "id": "ce01272c",
   "metadata": {},
   "source": [
    "Example 1:  \n",
    "\n",
    "Input: nums = [-1,0,3,5,9,12], target = 9  \n",
    "Output: 4  \n",
    "Explanation: 9 exists in nums and its index is 4  \n",
    "Example 2:  \n",
    "\n",
    "Input: nums = [-1,0,3,5,9,12], target = 2  \n",
    "Output: -1  \n",
    "Explanation: 2 does not exist in nums so return -1  \n"
   ]
  },
  {
   "cell_type": "markdown",
   "id": "c2517430",
   "metadata": {},
   "source": [
    "Constraints:  \n",
    "\n",
    "1 <= nums.length <= 104  \n",
    "-104 < nums[i], target < 104  \n",
    "All the integers in nums are unique.  \n",
    "nums is sorted in ascending order.  \n"
   ]
  },
  {
   "cell_type": "code",
   "execution_count": 2,
   "id": "0eb9d8e1",
   "metadata": {},
   "outputs": [],
   "source": [
    "class Solution:\n",
    "    def search(self, nums: list, target: int) -> int:\n",
    "        left = 0\n",
    "        right = len(nums) - 1\n",
    "        \n",
    "        while left <= right:\n",
    "            mid = (left + right) // 2\n",
    "            if nums[mid] < target:\n",
    "                left += 1\n",
    "            elif nums[mid] > target:\n",
    "                right -= 1\n",
    "            else:\n",
    "                return mid\n",
    "        return -1"
   ]
  },
  {
   "cell_type": "code",
   "execution_count": 4,
   "id": "38523af2",
   "metadata": {},
   "outputs": [
    {
     "name": "stdout",
     "output_type": "stream",
     "text": [
      "4\n"
     ]
    }
   ],
   "source": [
    "sol = Solution()\n",
    "print(sol.search([-1,0,3,5,9,12], 9))"
   ]
  },
  {
   "cell_type": "code",
   "execution_count": 6,
   "id": "999271af",
   "metadata": {},
   "outputs": [],
   "source": [
    "class Solution:\n",
    "    def search(self, nums: list, target: int) -> int:\n",
    "        left = 0\n",
    "        right = len(nums) - 1\n",
    "        \n",
    "        while left <= right:\n",
    "            mid = (left + right) // 2\n",
    "            if nums[mid] < target:\n",
    "                left = mid + 1\n",
    "            elif nums[mid] > target:\n",
    "                right = mid -1\n",
    "            else:\n",
    "                return mid\n",
    "        return -1"
   ]
  },
  {
   "cell_type": "code",
   "execution_count": 7,
   "id": "023c6b04",
   "metadata": {},
   "outputs": [
    {
     "name": "stdout",
     "output_type": "stream",
     "text": [
      "4\n"
     ]
    }
   ],
   "source": [
    "sol = Solution()\n",
    "print(sol.search([-1,0,3,5,9,12], 9))"
   ]
  }
 ],
 "metadata": {
  "kernelspec": {
   "display_name": "Python 3 (ipykernel)",
   "language": "python",
   "name": "python3"
  },
  "language_info": {
   "codemirror_mode": {
    "name": "ipython",
    "version": 3
   },
   "file_extension": ".py",
   "mimetype": "text/x-python",
   "name": "python",
   "nbconvert_exporter": "python",
   "pygments_lexer": "ipython3",
   "version": "3.8.10"
  }
 },
 "nbformat": 4,
 "nbformat_minor": 5
}
