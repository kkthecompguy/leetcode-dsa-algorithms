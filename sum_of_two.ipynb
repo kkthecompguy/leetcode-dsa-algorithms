{
 "cells": [
  {
   "cell_type": "markdown",
   "id": "c943b558",
   "metadata": {},
   "source": [
    "Given an array of integers nums and an integer target, return indices of the two numbers such that they add up to target.\n",
    "\n",
    "You may assume that each input would have exactly one solution, and you may not use the same element twice.\n",
    "\n",
    "You can return the answer in any order.\n",
    "\n",
    "Example 1:\n",
    "\n",
    "Input: nums = [2,7,11,15], target = 9  \n",
    "Output: [0,1]  \n",
    "Explanation: Because nums[0] + nums[1] == 9, we return [0, 1].  \n",
    "  \n",
    "Example 2:\n",
    "\n",
    "Input: nums = [3,2,4], target = 6\n",
    "Output: [1,2]\n",
    "Example 3:\n",
    "\n",
    "Input: nums = [3,3], target = 6\n",
    "Output: [0,1]\n",
    " \n",
    "\n",
    "Constraints:\n",
    "\n",
    "* 2 <= nums.length <= 104\n",
    "* -109 <= nums[i] <= 109\n",
    "* -109 <= target <= 109\n",
    "* **Only one valid answer exists.**"
   ]
  },
  {
   "cell_type": "code",
   "execution_count": 2,
   "id": "46042cb7",
   "metadata": {},
   "outputs": [],
   "source": [
    "class Solution:\n",
    "    def two_sum(self, nums: list, target: int) -> list:\n",
    "        hash_table = dict()\n",
    "        for i in range(len(nums)):\n",
    "            complement = target - nums[i]\n",
    "            if complement in hash_table:\n",
    "                return [i, nums.index(complement)]\n",
    "            hash_table[nums[i]] = nums[i]"
   ]
  },
  {
   "cell_type": "code",
   "execution_count": 3,
   "id": "d9eec4c3",
   "metadata": {},
   "outputs": [
    {
     "name": "stdout",
     "output_type": "stream",
     "text": [
      "[2, 0]\n"
     ]
    }
   ],
   "source": [
    "sol = Solution()\n",
    "print(sol.two_sum([3,2,3], 6))"
   ]
  },
  {
   "cell_type": "code",
   "execution_count": 6,
   "id": "0032998e",
   "metadata": {},
   "outputs": [],
   "source": [
    "class Solution:\n",
    "    def two_sum(self, nums: list, target: int) -> list:\n",
    "        hash_table = dict()\n",
    "        for i in range(len(nums) -1):\n",
    "            for j in range(i+1, len(nums)):\n",
    "               if nums[i] + nums[j] == target:\n",
    "                   return [i, j]\n",
    "               "
   ]
  },
  {
   "cell_type": "code",
   "execution_count": 7,
   "id": "93455685",
   "metadata": {},
   "outputs": [
    {
     "name": "stdout",
     "output_type": "stream",
     "text": [
      "[0, 2]\n"
     ]
    }
   ],
   "source": [
    "sol = Solution()\n",
    "print(sol.two_sum([3,2,3], 6))"
   ]
  }
 ],
 "metadata": {
  "kernelspec": {
   "display_name": "Python 3 (ipykernel)",
   "language": "python",
   "name": "python3"
  },
  "language_info": {
   "codemirror_mode": {
    "name": "ipython",
    "version": 3
   },
   "file_extension": ".py",
   "mimetype": "text/x-python",
   "name": "python",
   "nbconvert_exporter": "python",
   "pygments_lexer": "ipython3",
   "version": "3.8.10"
  }
 },
 "nbformat": 4,
 "nbformat_minor": 5
}
