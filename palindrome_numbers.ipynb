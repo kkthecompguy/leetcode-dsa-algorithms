{
 "cells": [
  {
   "cell_type": "markdown",
   "id": "20278b25",
   "metadata": {},
   "source": [
    "Given an integer x, return true if x is palindrome integer.\n",
    "\n",
    "An integer is a palindrome when it reads the same backward as forward.\n",
    "\n",
    "* For example, 121 is a palindrome while 123 is not.\n",
    "\n",
    "\n",
    "Example 1:  \n",
    "\n",
    "\n",
    "* Input: x = 121\n",
    "* Output: true\n",
    "* Explanation: 121 reads as 121 from left to right and from right to left.\n",
    "\n",
    "\n",
    "Example 2:  \n",
    "\n",
    "* Input: x = -121\n",
    "* Output: false\n",
    "* Explanation: From left to right, it reads -121. From right to left, it becomes 121-. Therefore it is not a palindrome.  \n",
    "  \n",
    "  \n",
    "\n",
    "Example 3:\n",
    "\n",
    "* Input: x = 10\n",
    "* Output: false\n",
    "* planation: Reads 01 from right to left. Therefore it is not a palindrome.\n",
    " \n",
    "\n",
    "Constraints:\n",
    "\n",
    "-231 <= x <= 231 - 1"
   ]
  },
  {
   "cell_type": "code",
   "execution_count": 3,
   "id": "9d91e241",
   "metadata": {},
   "outputs": [],
   "source": [
    "class Solution:\n",
    "    def is_palindrome(self, x: int) -> bool:\n",
    "        x_str = str(x)\n",
    "        return x_str[::-1] == x_str"
   ]
  },
  {
   "cell_type": "code",
   "execution_count": 4,
   "id": "bf0e69ff",
   "metadata": {},
   "outputs": [
    {
     "name": "stdout",
     "output_type": "stream",
     "text": [
      "True\n"
     ]
    }
   ],
   "source": [
    "sol = Solution()\n",
    "print(sol.is_palindrome(121))"
   ]
  },
  {
   "cell_type": "code",
   "execution_count": 9,
   "id": "e53a5d1b",
   "metadata": {},
   "outputs": [],
   "source": [
    "class Solution:\n",
    "    def is_palindrome(self, x: int) -> bool: \n",
    "        rev_n = self.reverse_digits(x) \n",
    "        print('rev_n',rev_n) \n",
    "        return rev_n == x\n",
    "    \n",
    "    def reverse_digits(self, num):\n",
    "        rev_num = 0\n",
    "        while (num > 0):\n",
    "            rev_num = rev_num * 10 + num % 10\n",
    "            num = num // 10 \n",
    "        return rev_num"
   ]
  },
  {
   "cell_type": "code",
   "execution_count": 12,
   "id": "3c4cb6bc",
   "metadata": {},
   "outputs": [
    {
     "name": "stdout",
     "output_type": "stream",
     "text": [
      "rev_n 133\n",
      "False\n"
     ]
    }
   ],
   "source": [
    "sol = Solution()\n",
    "print(sol.is_palindrome(331))"
   ]
  },
  {
   "cell_type": "code",
   "execution_count": null,
   "id": "4178abc3",
   "metadata": {},
   "outputs": [],
   "source": []
  }
 ],
 "metadata": {
  "kernelspec": {
   "display_name": "Python 3 (ipykernel)",
   "language": "python",
   "name": "python3"
  },
  "language_info": {
   "codemirror_mode": {
    "name": "ipython",
    "version": 3
   },
   "file_extension": ".py",
   "mimetype": "text/x-python",
   "name": "python",
   "nbconvert_exporter": "python",
   "pygments_lexer": "ipython3",
   "version": "3.8.10"
  }
 },
 "nbformat": 4,
 "nbformat_minor": 5
}
