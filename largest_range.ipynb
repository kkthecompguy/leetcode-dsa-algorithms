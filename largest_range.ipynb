{
 "cells": [
  {
   "cell_type": "markdown",
   "id": "226f2161",
   "metadata": {},
   "source": [
    "Find the largest range of values in array or list"
   ]
  },
  {
   "cell_type": "code",
   "execution_count": 1,
   "id": "92301a72",
   "metadata": {},
   "outputs": [],
   "source": [
    "def largest_range(array):\n",
    "    numbers = {x:0 for x in array}\n",
    "    left = right = 0\n",
    "    for number in array:\n",
    "        if numbers[number] == 0:\n",
    "            left_count = number - 1\n",
    "            right_count = number + 1\n",
    "            \n",
    "            while left_count in numbers: # O(1)\n",
    "                numbers[left_count] = 1\n",
    "                left_count -= 1\n",
    "            left_count += 1\n",
    "            \n",
    "            while right_count in numbers:\n",
    "                numbers[right_count] = 1\n",
    "                right_count += 1\n",
    "            right_count -= 1\n",
    "            \n",
    "            if (right-left) <= (right_count - left_count):\n",
    "                right = right_count\n",
    "                left = left_count\n",
    "    return [left,right]"
   ]
  },
  {
   "cell_type": "code",
   "execution_count": 5,
   "id": "88e7c822",
   "metadata": {},
   "outputs": [
    {
     "name": "stdout",
     "output_type": "stream",
     "text": [
      "[9, 12]\n"
     ]
    }
   ],
   "source": [
    "x = [2,3,1,5,6, 12, 11, 10, 9]\n",
    "print(largest_range(x))"
   ]
  },
  {
   "cell_type": "code",
   "execution_count": null,
   "id": "b71ec97f",
   "metadata": {},
   "outputs": [],
   "source": []
  }
 ],
 "metadata": {
  "kernelspec": {
   "display_name": "Python 3 (ipykernel)",
   "language": "python",
   "name": "python3"
  },
  "language_info": {
   "codemirror_mode": {
    "name": "ipython",
    "version": 3
   },
   "file_extension": ".py",
   "mimetype": "text/x-python",
   "name": "python",
   "nbconvert_exporter": "python",
   "pygments_lexer": "ipython3",
   "version": "3.8.10"
  }
 },
 "nbformat": 4,
 "nbformat_minor": 5
}
