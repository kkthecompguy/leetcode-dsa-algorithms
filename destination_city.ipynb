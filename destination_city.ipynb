{
 "cells": [
  {
   "cell_type": "markdown",
   "id": "18edabc1",
   "metadata": {},
   "source": [
    "You are given the array paths, where paths[i] = [cityAi, cityBi] means there exists a direct path going from  \n",
    "cityAi to cityBi. Return the destination city, that is, the city without any path outgoing to another city.  \n",
    "\n",
    "It is guaranteed that the graph of paths forms a line without any loop, therefore, there will be exactly one  \n",
    "destination city."
   ]
  },
  {
   "cell_type": "markdown",
   "id": "77f8009c",
   "metadata": {},
   "source": [
    "Example 1:  \n",
    "\n",
    "Input: paths = [[\"London\",\"New York\"],[\"New York\",\"Lima\"],[\"Lima\",\"Sao Paulo\"]]  \n",
    "    \n",
    "Output: \"Sao Paulo\"  \n",
    "Explanation: Starting at \"London\" city you will reach \"Sao Paulo\" city which is the destination city. Your trip  \n",
    "consist of: \"London\" -> \"New York\" -> \"Lima\" -> \"Sao Paulo\"."
   ]
  },
  {
   "cell_type": "markdown",
   "id": "9f0b69d3",
   "metadata": {},
   "source": [
    "Example 2:  \n",
    "\n",
    "Input: paths = [[\"B\",\"C\"],[\"D\",\"B\"],[\"C\",\"A\"]]  \n",
    "Output: \"A\"  \n",
    "Explanation: All possible trips are:  \n",
    "\"D\" -> \"B\" -> \"C\" -> \"A\".  \n",
    "\"B\" -> \"C\" -> \"A\".  \n",
    "\"C\" -> \"A\".  \n",
    "\"A\".   \n",
    "Clearly the destination city is \"A\"."
   ]
  },
  {
   "cell_type": "code",
   "execution_count": 1,
   "id": "eadcc6b2",
   "metadata": {},
   "outputs": [],
   "source": [
    "class Solution:\n",
    "    def destCity(self, paths: list) -> str:\n",
    "        cityMap = {}\n",
    "        for path in paths:\n",
    "            cityMap[path[0]] = path[1]\n",
    "        \n",
    "        dest = paths[0][1]\n",
    "        while True:\n",
    "            if dest in cityMap:\n",
    "                dest = cityMap[dest]\n",
    "            else:\n",
    "                return dest "
   ]
  },
  {
   "cell_type": "code",
   "execution_count": 3,
   "id": "246b4245",
   "metadata": {},
   "outputs": [
    {
     "name": "stdout",
     "output_type": "stream",
     "text": [
      "Sao Paulo\n"
     ]
    }
   ],
   "source": [
    "sol = Solution()\n",
    "print(sol.destCity([[\"London\",\"New York\"],[\"New York\",\"Lima\"],[\"Lima\",\"Sao Paulo\"]]))"
   ]
  },
  {
   "cell_type": "code",
   "execution_count": 4,
   "id": "5e591910",
   "metadata": {},
   "outputs": [],
   "source": [
    "class Solution:\n",
    "    def dest_city(self, paths:list) -> str:\n",
    "        outgoing_count = {}\n",
    "        for path in paths:\n",
    "            city_a, city_b = path\n",
    "            outgoing_count[city_a] = outgoing_count.get(city_a, 0) + 1\n",
    "            outgoing_count[city_b] = outgoing_count.get(city_b, 0)\n",
    "            \n",
    "        for city in outgoing_count:\n",
    "            if outgoing_count[city] == 0:\n",
    "                return city"
   ]
  },
  {
   "cell_type": "code",
   "execution_count": 6,
   "id": "bcea2174",
   "metadata": {},
   "outputs": [
    {
     "name": "stdout",
     "output_type": "stream",
     "text": [
      "Sao Paulo\n"
     ]
    }
   ],
   "source": [
    "sol = Solution()\n",
    "print(sol.dest_city([[\"London\",\"New York\"],[\"New York\",\"Lima\"],[\"Lima\",\"Sao Paulo\"]]))"
   ]
  },
  {
   "cell_type": "code",
   "execution_count": 7,
   "id": "ef9ea58d",
   "metadata": {},
   "outputs": [],
   "source": [
    "class Solution:\n",
    "    def dest_city(self, paths: list) -> str:\n",
    "        exit_cities = set()\n",
    "        for city in paths:\n",
    "            exit_cities.add(city[0])\n",
    "        for cities in paths:\n",
    "            if cities[1] not in exit_cities:\n",
    "                return cities[1]"
   ]
  },
  {
   "cell_type": "code",
   "execution_count": 8,
   "id": "692c15e6",
   "metadata": {},
   "outputs": [
    {
     "name": "stdout",
     "output_type": "stream",
     "text": [
      "Sao Paulo\n"
     ]
    }
   ],
   "source": [
    "sol = Solution()\n",
    "print(sol.dest_city([[\"London\",\"New York\"],[\"New York\",\"Lima\"],[\"Lima\",\"Sao Paulo\"]]))"
   ]
  },
  {
   "cell_type": "code",
   "execution_count": 10,
   "id": "eaca2086",
   "metadata": {},
   "outputs": [],
   "source": [
    "class Solution:\n",
    "    def dest_city(self, paths: list):\n",
    "        A, B = map(set, zip(*paths))\n",
    "        return (B - A).pop()"
   ]
  },
  {
   "cell_type": "code",
   "execution_count": 11,
   "id": "4ecc4e4b",
   "metadata": {},
   "outputs": [
    {
     "name": "stdout",
     "output_type": "stream",
     "text": [
      "Sao Paulo\n"
     ]
    }
   ],
   "source": [
    "sol = Solution()\n",
    "print(sol.dest_city([[\"London\",\"New York\"],[\"New York\",\"Lima\"],[\"Lima\",\"Sao Paulo\"]]))"
   ]
  }
 ],
 "metadata": {
  "kernelspec": {
   "display_name": "Python 3 (ipykernel)",
   "language": "python",
   "name": "python3"
  },
  "language_info": {
   "codemirror_mode": {
    "name": "ipython",
    "version": 3
   },
   "file_extension": ".py",
   "mimetype": "text/x-python",
   "name": "python",
   "nbconvert_exporter": "python",
   "pygments_lexer": "ipython3",
   "version": "3.8.10"
  }
 },
 "nbformat": 4,
 "nbformat_minor": 5
}
