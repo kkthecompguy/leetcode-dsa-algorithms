{
 "cells": [
  {
   "cell_type": "markdown",
   "id": "ef1efb77",
   "metadata": {},
   "source": [
    "There are 3n piles of coins of varying size, you and your friends will take piles of coins as follows:  \n",
    "\n",
    "In each step, you will choose any 3 piles of coins (not necessarily consecutive).  \n",
    "* Of your choice, Alice will pick the pile with the maximum number of coins.\n",
    "* You will pick the next pile with the maximum number of coins.\n",
    "* Your friend Bob will pick the last pile.\n",
    "* Repeat until there are no more piles of coins.\n",
    "Given an array of integers piles where piles[i] is the number of coins in the ith pile.  \n",
    "\n",
    "Return the maximum number of coins that you can have."
   ]
  },
  {
   "cell_type": "markdown",
   "id": "dea12dcb",
   "metadata": {},
   "source": [
    "Example 1:  \n",
    "    \n",
    "Input: piles = [2,4,1,2,7,8]  \n",
    "Output: 9  \n",
    "Explanation: Choose the triplet (2, 7, 8), Alice Pick the pile with 8 coins, you the pile with 7 coins and Bob the last one.  \n",
    "Choose the triplet (1, 2, 4), Alice Pick the pile with 4 coins, you the pile with 2 coins and Bob the last one.  \n",
    "The maximum number of coins which you can have are: 7 + 2 = 9.  \n",
    "On the other hand if we choose this arrangement (1, 2, 8), (2, 4, 7) you only get 2 + 4 = 6 coins which is not optimal.  \n",
    "\n",
    "Example 2:  \n",
    "\n",
    "Input: piles = [2,4,5]  \n",
    "Output: 4  \n",
    "Example 3:  \n",
    "\n",
    "Input: piles = [9,8,7,6,5,1,2,3,4]  \n",
    "Output: 18  \n",
    " \n",
    "\n",
    "Constraints:  \n",
    "\n",
    "3 <= piles.length <= 105  \n",
    "piles.length % 3 == 0  \n",
    "1 <= piles[i] <= 104  \n"
   ]
  },
  {
   "cell_type": "code",
   "execution_count": 5,
   "id": "d5a114c3",
   "metadata": {},
   "outputs": [],
   "source": [
    "class Solution:\n",
    "    def max_coins(self, piles: list) -> int:\n",
    "        sorted_piles = sorted(piles)\n",
    "        end_index = len(sorted_piles) - 1\n",
    "        total = 0\n",
    "        n = len(sorted_piles) // 3\n",
    "        for i in range(n):\n",
    "            total += sorted_piles[end_index-(i*2) -1]\n",
    "        return total    \n",
    "        "
   ]
  },
  {
   "cell_type": "code",
   "execution_count": 8,
   "id": "48bc6b24",
   "metadata": {},
   "outputs": [
    {
     "name": "stdout",
     "output_type": "stream",
     "text": [
      "18\n"
     ]
    }
   ],
   "source": [
    "sol = Solution()\n",
    "print(sol.max_coins([9,8,7,6,5,1,2,3,4]))"
   ]
  },
  {
   "cell_type": "code",
   "execution_count": 15,
   "id": "bf40f771",
   "metadata": {},
   "outputs": [],
   "source": [
    "class Solution:\n",
    "    def max_coins(self, piles: list) -> int:\n",
    "        return sum(sorted(piles)[len(piles)//3::2])"
   ]
  },
  {
   "cell_type": "code",
   "execution_count": 16,
   "id": "0c0e6b2f",
   "metadata": {},
   "outputs": [
    {
     "name": "stdout",
     "output_type": "stream",
     "text": [
      "18\n"
     ]
    }
   ],
   "source": [
    "sol = Solution()\n",
    "print(sol.max_coins([9,8,7,6,5,1,2,3,4]))"
   ]
  }
 ],
 "metadata": {
  "kernelspec": {
   "display_name": "Python 3 (ipykernel)",
   "language": "python",
   "name": "python3"
  },
  "language_info": {
   "codemirror_mode": {
    "name": "ipython",
    "version": 3
   },
   "file_extension": ".py",
   "mimetype": "text/x-python",
   "name": "python",
   "nbconvert_exporter": "python",
   "pygments_lexer": "ipython3",
   "version": "3.8.10"
  }
 },
 "nbformat": 4,
 "nbformat_minor": 5
}
