{
 "cells": [
  {
   "cell_type": "markdown",
   "id": "0222f21e",
   "metadata": {},
   "source": [
    "Given a string s which consists of lowercase or uppercase letters, return the length of the longest palindrome  \n",
    "that can be built with those letters.  \n",
    "\n",
    "Letters are case sensitive, for example, \"Aa\" is not considered a palindrome here."
   ]
  },
  {
   "cell_type": "markdown",
   "id": "4697c128",
   "metadata": {},
   "source": [
    "Example 1:  \n",
    "\n",
    "Input: s = \"abccccdd\"  \n",
    "Output: 7  \n",
    "Explanation:  \n",
    "One longest palindrome that can be built is \"dccaccd\", whose length is 7.  \n",
    "Example 2:  \n",
    "\n",
    "Input: s = \"a\"  \n",
    "Output: 1  \n",
    "Example 3:  \n",
    "\n",
    "Input: s = \"bb\"  \n",
    "Output: 2  \n",
    " \n",
    "\n",
    "Constraints:  \n",
    "\n",
    "1 <= s.length <= 2000  \n",
    "s consists of lowercase and/or uppercase English letters only."
   ]
  },
  {
   "cell_type": "code",
   "execution_count": 4,
   "id": "80dc7faf",
   "metadata": {},
   "outputs": [],
   "source": [
    "import collections\n",
    "class Solution:\n",
    "    def longest_palindrome(self, s: str) -> int:\n",
    "        ans = 0\n",
    "        for v in collections.Counter(s).values():\n",
    "            ans += v // 2 * 2\n",
    "            if ans % 2 == 0 and v % 2 == 1:\n",
    "                ans += 1\n",
    "        return ans"
   ]
  },
  {
   "cell_type": "code",
   "execution_count": 5,
   "id": "65f81e4b",
   "metadata": {},
   "outputs": [
    {
     "name": "stdout",
     "output_type": "stream",
     "text": [
      "7\n"
     ]
    }
   ],
   "source": [
    "sol = Solution()\n",
    "print(sol.longest_palindrome(\"abccccdd\"))"
   ]
  },
  {
   "cell_type": "code",
   "execution_count": 6,
   "id": "b7d9bd3b",
   "metadata": {},
   "outputs": [],
   "source": [
    "class Solution:\n",
    "    def longest_palindrome(self, s: str) -> int:\n",
    "        char_count = {}\n",
    "        for char in s:\n",
    "            char_count[char] = char_count.get(char, 0) + 1\n",
    "            \n",
    "        final_count = 0\n",
    "        odd_is_present = False\n",
    "        for char in char_count:\n",
    "            if char_count[char] % 2 == 0:\n",
    "                final_count += char_count[char]\n",
    "            else:\n",
    "                final_count += (char_count[char]-1)\n",
    "                odd_is_present = True\n",
    "            \n",
    "        if odd_is_present:\n",
    "            final_count += 1\n",
    "            \n",
    "        return final_count"
   ]
  },
  {
   "cell_type": "code",
   "execution_count": 7,
   "id": "c98bf5e1",
   "metadata": {},
   "outputs": [
    {
     "name": "stdout",
     "output_type": "stream",
     "text": [
      "7\n"
     ]
    }
   ],
   "source": [
    "sol = Solution()\n",
    "print(sol.longest_palindrome(\"abccccdd\"))"
   ]
  }
 ],
 "metadata": {
  "kernelspec": {
   "display_name": "Python 3 (ipykernel)",
   "language": "python",
   "name": "python3"
  },
  "language_info": {
   "codemirror_mode": {
    "name": "ipython",
    "version": 3
   },
   "file_extension": ".py",
   "mimetype": "text/x-python",
   "name": "python",
   "nbconvert_exporter": "python",
   "pygments_lexer": "ipython3",
   "version": "3.8.10"
  }
 },
 "nbformat": 4,
 "nbformat_minor": 5
}
