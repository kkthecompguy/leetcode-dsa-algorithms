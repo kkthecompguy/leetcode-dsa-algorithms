{
 "cells": [
  {
   "cell_type": "markdown",
   "id": "063def8d",
   "metadata": {},
   "source": [
    "Given the root of a binary tree, each node in the tree has a distinct value.  \n",
    "\n",
    "After deleting all nodes with a value in to_delete, we are left with a forest (a disjoint union of trees).  \n",
    "\n",
    "Return the roots of the trees in the remaining forest. You may return the result in any order.  \n"
   ]
  },
  {
   "cell_type": "markdown",
   "id": "bd5c0b85",
   "metadata": {},
   "source": [
    "\n",
    "Example 1:  \n",
    "\n",
    "\n",
    "Input: root = [1,2,3,4,5,6,7], to_delete = [3,5]  \n",
    "Output: [[1,2,null,4],[6],[7]]  \n",
    "\n",
    "Example 2:  \n",
    "\n",
    "Input: root = [1,2,4,null,3], to_delete = [3]  \n",
    "Output: [[1,2,4]]  \n",
    " \n",
    "\n",
    "Constraints:  \n",
    "\n",
    "The number of nodes in the given tree is at most 1000.  \n",
    "Each node has a distinct value between 1 and 1000.  \n",
    "to_delete.length <= 1000  \n",
    "to_delete contains distinct values between 1 and 1000.  \n"
   ]
  },
  {
   "cell_type": "code",
   "execution_count": 3,
   "id": "4b8b399e",
   "metadata": {},
   "outputs": [],
   "source": [
    "# Definition for a binary tree node.\n",
    "class TreeNode:\n",
    "    def __init__(self, val=0, left=None, right=None):\n",
    "        self.val = val\n",
    "        self.left = left\n",
    "        self.right = right\n",
    "\n",
    "class Solution:\n",
    "    \n",
    "    def __init__(self):\n",
    "        self.output = []\n",
    "        \n",
    "    def delNodes(self, root: TreeNode, to_delete: list) -> list:\n",
    "        if root.val not in to_delete:\n",
    "            self.output.append(root)\n",
    "            \n",
    "        queue = [root]\n",
    "        \n",
    "        while queue:\n",
    "            node = queue.pop(0)\n",
    "            \n",
    "            \n",
    "            if node.val in to_delete:\n",
    "                if node.left:\n",
    "                    self.delNodes(node.left, to_delete)\n",
    "\n",
    "                if node.right:\n",
    "                    self.delNodes(node.right, to_delete)\n",
    "            else:\n",
    "                if node.left:\n",
    "                    queue.append(node.left)\n",
    "                    if node.left.val in to_delete:\n",
    "                        node.left = None\n",
    "                        \n",
    "                if node.right:\n",
    "                    queue.append(node.right)\n",
    "                    if node.right.val in to_delete:\n",
    "                        node.right = None\n",
    "                \n",
    "        return self.output\n",
    "        \n",
    "        "
   ]
  },
  {
   "cell_type": "code",
   "execution_count": null,
   "id": "0ecffdef",
   "metadata": {},
   "outputs": [],
   "source": []
  }
 ],
 "metadata": {
  "kernelspec": {
   "display_name": "Python 3 (ipykernel)",
   "language": "python",
   "name": "python3"
  },
  "language_info": {
   "codemirror_mode": {
    "name": "ipython",
    "version": 3
   },
   "file_extension": ".py",
   "mimetype": "text/x-python",
   "name": "python",
   "nbconvert_exporter": "python",
   "pygments_lexer": "ipython3",
   "version": "3.8.10"
  }
 },
 "nbformat": 4,
 "nbformat_minor": 5
}
