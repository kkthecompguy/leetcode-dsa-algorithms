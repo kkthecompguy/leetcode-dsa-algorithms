{
 "cells": [
  {
   "cell_type": "markdown",
   "id": "ddce09e4",
   "metadata": {},
   "source": [
    "Given the array nums, for each nums[i] find out how many numbers in the array are smaller than it. That is, for each nums[i] you have to count the number of valid j's such that j != i and nums[j] < nums[i].\n",
    "  \n",
    "  \n",
    "Return the answer in an array."
   ]
  },
  {
   "cell_type": "markdown",
   "id": "6bb6979b",
   "metadata": {},
   "source": [
    "Example 1:  \n",
    "    \n",
    "\n",
    "Input: nums = [8,1,2,2,3]  \n",
    "Output: [4,0,1,1,3]  \n",
    "Explanation:   \n",
    "For nums[0]=8 there exist four smaller numbers than it (1, 2, 2 and 3).  \n",
    "For nums[1]=1 does not exist any smaller number than it.  \n",
    "For nums[2]=2 there exist one smaller number than it (1).   \n",
    "For nums[3]=2 there exist one smaller number than it (1).   \n",
    "For nums[4]=3 there exist three smaller numbers than it (1, 2 and 2)."
   ]
  },
  {
   "cell_type": "markdown",
   "id": "4cf0d987",
   "metadata": {},
   "source": [
    "Example 2:  \n",
    "\n",
    "Input: nums = [6,5,4,8]  \n",
    "Output: [2,1,0,3]"
   ]
  },
  {
   "cell_type": "markdown",
   "id": "82cc29dc",
   "metadata": {},
   "source": [
    "Example 3:  \n",
    "\n",
    "Input: nums = [7,7,7,7]  \n",
    "Output: [0,0,0,0]"
   ]
  },
  {
   "cell_type": "code",
   "execution_count": 1,
   "id": "8c97c3b8",
   "metadata": {},
   "outputs": [],
   "source": [
    "class Solution:\n",
    "    def smaller_numbers_than_current(self, nums: list) -> list:\n",
    "        sorted_nums = sorted(nums, reverse=True)\n",
    "        smaller_count = {}\n",
    "        \n",
    "        for i in range(len(sorted_nums) -1):\n",
    "            curr_num = sorted_nums[i]\n",
    "            next_num = sorted_nums[i+1]\n",
    "            if next_num < curr_num:\n",
    "                remaining_values = len(sorted_nums) - (i + 1)\n",
    "                smaller_count[curr_num] = remaining_values\n",
    "                \n",
    "        smaller_count[sorted_nums[-1]] = 0\n",
    "        output = []\n",
    "        \n",
    "        for num in nums:\n",
    "            output.append(smaller_count[num])\n",
    "        \n",
    "        return output"
   ]
  },
  {
   "cell_type": "code",
   "execution_count": 4,
   "id": "800cafb9",
   "metadata": {},
   "outputs": [
    {
     "name": "stdout",
     "output_type": "stream",
     "text": [
      "[4, 0, 1, 1, 3]\n"
     ]
    }
   ],
   "source": [
    "sol = Solution()\n",
    "print(sol.smaller_numbers_than_current([8,1,2,2,3]))"
   ]
  }
 ],
 "metadata": {
  "kernelspec": {
   "display_name": "Python 3 (ipykernel)",
   "language": "python",
   "name": "python3"
  },
  "language_info": {
   "codemirror_mode": {
    "name": "ipython",
    "version": 3
   },
   "file_extension": ".py",
   "mimetype": "text/x-python",
   "name": "python",
   "nbconvert_exporter": "python",
   "pygments_lexer": "ipython3",
   "version": "3.8.10"
  }
 },
 "nbformat": 4,
 "nbformat_minor": 5
}
