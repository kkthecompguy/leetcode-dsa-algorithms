{
 "cells": [
  {
   "cell_type": "markdown",
   "id": "a7de16a3",
   "metadata": {},
   "source": [
    "You have a browser of one tab where you start on the homepage and you can visit another url, get back in the history number of steps or move forward in the history number of steps.\n",
    "\n",
    "Implement the BrowserHistory class:  \n",
    "\n",
    "BrowserHistory(string homepage) Initializes the object with the homepage of the browser.\n",
    "void visit(string url) Visits url from the current page. It clears up all the forward history.\n",
    "string back(int steps) Move steps back in history. If you can only return x steps in the history and steps > x, you will return only x steps. Return the current url after moving back in history at most steps.\n",
    "string forward(int steps) Move steps forward in history. If you can only forward x steps in the history and steps > x, you will forward only x steps. Return the current url after forwarding in history at most steps."
   ]
  },
  {
   "cell_type": "markdown",
   "id": "e70ac4bd",
   "metadata": {},
   "source": [
    "Example:  \n",
    "\n",
    "Input:  \n",
    "[\"BrowserHistory\",\"visit\",\"visit\",\"visit\",\"back\",\"back\",\"forward\",\"visit\",\"forward\",\"back\",\"back\"]\n",
    "[[\"leetcode.com\"],[\"google.com\"],[\"facebook.com\"],[\"youtube.com\"],[1],[1],[1],[\"linkedin.com\"],[2],[2],[7]]\n",
    "Output:  \n",
    "[null,null,null,null,\"facebook.com\",\"google.com\",\"facebook.com\",null,\"linkedin.com\",\"google.com\",\"leetcode.com\"]\n",
    "\n",
    "Explanation:  \n",
    "BrowserHistory browserHistory = new BrowserHistory(\"leetcode.com\");  \n",
    "browserHistory.visit(\"google.com\");       // You are in \"leetcode.com\". Visit \"google.com\"  \n",
    "browserHistory.visit(\"facebook.com\");     // You are in \"google.com\". Visit \"facebook.com\"  \n",
    "browserHistory.visit(\"youtube.com\");      // You are in \"facebook.com\". Visit \"youtube.com\"  \n",
    "browserHistory.back(1);                   // You are in \"youtube.com\", move back to \"facebook.com\" return \"facebook.com\"  \n",
    "browserHistory.back(1);                   // You are in \"facebook.com\", move back to \"google.com\" return \"google.com\"  \n",
    "browserHistory.forward(1);                // You are in \"google.com\", move forward to \"facebook.com\" return \"facebook.com\"  \n",
    "browserHistory.visit(\"linkedin.com\");     // You are in \"facebook.com\". Visit \"linkedin.com\"  \n",
    "browserHistory.forward(2);                // You are in \"linkedin.com\", you cannot move forward any steps.  \n",
    "browserHistory.back(2);                   // You are in \"linkedin.com\", move back two steps to \"facebook.com\" then to \"google.com\". return \"google.com\"  \n",
    "browserHistory.back(7);                   // You are in \"google.com\", you can move back only one step to \"leetcode.com\". return \"leetcode.com\"  \n",
    " \n",
    "\n",
    "Constraints:  \n",
    "\n",
    "1 <= homepage.length <= 20  \n",
    "1 <= url.length <= 20  \n",
    "1 <= steps <= 100  \n",
    "homepage and url consist of  '.' or lower case English letters.  \n",
    "At most 5000 calls will be made to visit, back, and forward."
   ]
  },
  {
   "cell_type": "code",
   "execution_count": 1,
   "id": "72884dd3",
   "metadata": {},
   "outputs": [],
   "source": [
    "class BrowserHistory:\n",
    "\n",
    "    def __init__(self, homepage: str):\n",
    "        self.history = [homepage]\n",
    "        self.current_index = 0\n",
    "        \n",
    "\n",
    "    def visit(self, url: str) -> None:\n",
    "        self.current_index += 1\n",
    "        self.history = self.history[0:self.current_index]\n",
    "        self.history.append(url)\n",
    "        \n",
    "\n",
    "    def back(self, steps: int) -> str:\n",
    "        self.current_index = max(0, self.current_index - steps)\n",
    "        return self.history[self.current_index]\n",
    "        \n",
    "\n",
    "    def forward(self, steps: int) -> str:\n",
    "        self.current_index = min(len(self.history)-1, self.current_index + steps)\n",
    "        return self.history[self.current_index]\n",
    "\n",
    "\n",
    "# Your BrowserHistory object will be instantiated and called as such:\n",
    "# obj = BrowserHistory(homepage)\n",
    "# obj.visit(url)\n",
    "# param_2 = obj.back(steps)\n",
    "# param_3 = obj.forward(steps)"
   ]
  },
  {
   "cell_type": "code",
   "execution_count": 2,
   "id": "33ccc890",
   "metadata": {},
   "outputs": [],
   "source": [
    "class Node:\n",
    "    def __init__(self, val, next=None, prev=None):\n",
    "        self.val = val\n",
    "        self.next = next\n",
    "        self.prev = prev\n",
    "class BrowserHistory:\n",
    "\n",
    "    def __init__(self, homepage: str):\n",
    "\t\t# Rather than denoting the start of the DLL head will point to the current location we are in .\n",
    "        self.head = Node(homepage)\n",
    "\n",
    "    def visit(self, url: str) -> None:\n",
    "\t\t# disconnect the next pages\n",
    "        if self.head.next:\n",
    "            self.head.next.prev = None\n",
    "        self.head.next = Node(url, None, self.head)\n",
    "        self.head = self.head.next\n",
    "    \n",
    "    def back(self, steps: int) -> str:\n",
    "        while self.head.prev and steps > 0:\n",
    "            self.head = self.head.prev\n",
    "            steps -= 1\n",
    "        return self.head.val\n",
    "    def forward(self, steps: int) -> str:\n",
    "        while self.head.next and steps > 0:\n",
    "            self.head = self.head.next\n",
    "            steps -= 1\n",
    "        return self.head.val"
   ]
  },
  {
   "cell_type": "code",
   "execution_count": null,
   "id": "91b4dc72",
   "metadata": {},
   "outputs": [],
   "source": []
  }
 ],
 "metadata": {
  "kernelspec": {
   "display_name": "Python 3 (ipykernel)",
   "language": "python",
   "name": "python3"
  },
  "language_info": {
   "codemirror_mode": {
    "name": "ipython",
    "version": 3
   },
   "file_extension": ".py",
   "mimetype": "text/x-python",
   "name": "python",
   "nbconvert_exporter": "python",
   "pygments_lexer": "ipython3",
   "version": "3.8.10"
  }
 },
 "nbformat": 4,
 "nbformat_minor": 5
}
