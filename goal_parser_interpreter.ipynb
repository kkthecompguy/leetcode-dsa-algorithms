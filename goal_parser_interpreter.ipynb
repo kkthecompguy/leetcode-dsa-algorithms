{
 "cells": [
  {
   "cell_type": "markdown",
   "id": "367e1bf9",
   "metadata": {},
   "source": [
    "You own a Goal Parser that can interpret a string command. The command consists of an alphabet of \"G\", \"()\" and/or  \n",
    "\"(al)\" in some order. The Goal Parser will interpret \"G\" as the string \"G\", \"()\" as the string \"o\", and \"(al)\" as  \n",
    "the string \"al\". The interpreted strings are then concatenated in the original order.  \n",
    "\n",
    "\n",
    "Given the string command, return the Goal Parser's interpretation of command."
   ]
  },
  {
   "cell_type": "markdown",
   "id": "d7a558f7",
   "metadata": {},
   "source": [
    "Input: command = \"G()(al)\"  \n",
    "Output: \"Goal\"  \n",
    "Explanation: The Goal Parser interprets the command as follows:  \n",
    "G -> G  \n",
    "() -> o  \n",
    "(al) -> al  \n",
    "The final concatenated result is \"Goal\"."
   ]
  },
  {
   "cell_type": "code",
   "execution_count": 1,
   "id": "cc76458e",
   "metadata": {},
   "outputs": [],
   "source": [
    "class Solution:\n",
    "    def interpret(self, command: str) -> str:\n",
    "        return command.replace(\"()\", \"o\").replace(\"(al)\",\"al\")"
   ]
  },
  {
   "cell_type": "code",
   "execution_count": 3,
   "id": "ef6bbf92",
   "metadata": {},
   "outputs": [
    {
     "name": "stdout",
     "output_type": "stream",
     "text": [
      "Goal\n"
     ]
    }
   ],
   "source": [
    "sol = Solution()\n",
    "print(sol.interpret(\"G()(al)\"))"
   ]
  },
  {
   "cell_type": "code",
   "execution_count": 4,
   "id": "f2e0fca0",
   "metadata": {},
   "outputs": [
    {
     "name": "stdout",
     "output_type": "stream",
     "text": [
      "Gooooal\n"
     ]
    }
   ],
   "source": [
    "sol = Solution()\n",
    "print(sol.interpret(\"G()()()()(al)\"))"
   ]
  },
  {
   "cell_type": "code",
   "execution_count": 5,
   "id": "63899ab7",
   "metadata": {},
   "outputs": [],
   "source": [
    "class Solution:\n",
    "    def interpret(self, command: str) -> str:\n",
    "        ans = \"\"\n",
    "        i , l = 0 , len(command)\n",
    "        while i<l:\n",
    "            if command[i] == \"G\":\n",
    "                ans+=\"G\"\n",
    "                i+=1\n",
    "            elif command[i] == \"(\" and command[i+1] == \")\":\n",
    "                ans+=\"o\"\n",
    "                i+=2\n",
    "            else:\n",
    "                ans+=\"al\"\n",
    "                i+=4\n",
    "        return ans"
   ]
  },
  {
   "cell_type": "code",
   "execution_count": 6,
   "id": "f09309ae",
   "metadata": {},
   "outputs": [
    {
     "name": "stdout",
     "output_type": "stream",
     "text": [
      "Goal\n"
     ]
    }
   ],
   "source": [
    "sol = Solution()\n",
    "print(sol.interpret(\"G()(al)\"))"
   ]
  },
  {
   "cell_type": "code",
   "execution_count": null,
   "id": "072fb458",
   "metadata": {},
   "outputs": [],
   "source": []
  }
 ],
 "metadata": {
  "kernelspec": {
   "display_name": "Python 3 (ipykernel)",
   "language": "python",
   "name": "python3"
  },
  "language_info": {
   "codemirror_mode": {
    "name": "ipython",
    "version": 3
   },
   "file_extension": ".py",
   "mimetype": "text/x-python",
   "name": "python",
   "nbconvert_exporter": "python",
   "pygments_lexer": "ipython3",
   "version": "3.8.10"
  }
 },
 "nbformat": 4,
 "nbformat_minor": 5
}
